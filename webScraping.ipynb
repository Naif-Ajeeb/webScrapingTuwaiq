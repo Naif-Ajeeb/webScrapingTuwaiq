{
 "cells": [
  {
   "cell_type": "code",
   "execution_count": null,
   "id": "9ec1fc62",
   "metadata": {},
   "outputs": [],
   "source": [
    "# these are the packages used:\n",
    "import pandas as pd\n",
    "from bs4 import BeautifulSoup\n",
    "import requests\n",
    "#this is the main url:\n",
    "books_url = 'https://books.toscrape.com/'\n",
    "# i made this variable so that i can iterate through the correct url, since the website doesn't always use the exact name of the book in its url.\n",
    "urls = []\n",
    "# this list should contain the data frame at the end:\n",
    "categories = []\n",
    "# this loop goes through all pages and get all books in each page:\n",
    "for i in range(1, 51):\n",
    "    books_url += f'catalogue/page-{i}.html'\n",
    "    response = requests.get(books_url)\n",
    "    soup = BeautifulSoup(response.text, 'html.parser')\n",
    "    books = soup.find_all('article', class_='product_pod')\n",
    "# after getting the books, this loop will scrape all data for each book and store them in variables to then\n",
    "# append them in the dictionary in the main list.\n",
    "    for book in books:\n",
    "        title = book.h3.a['title']\n",
    "        price = book.find('p', class_='price_color').text\n",
    "        stock = book.find('p', class_='instock availability').text.strip()\n",
    "        rating = book.p['class'][1]\n",
    "        # this is where i get the full url to store it in the urls list along the way of scraping the data:\n",
    "        relative_url = book.h3.a['href']\n",
    "        full_url = f\"https://books.toscrape.com/catalogue/{relative_url}\"\n",
    "        urls.append(full_url)\n",
    "        # add the scraped data to the main dictionary, which will turn into the data frame later:\n",
    "        categories.append({\n",
    "            'title': title,\n",
    "            'price': price,\n",
    "            'stock': stock,\n",
    "            'rating': rating\n",
    "        })\n",
    "    # this resets the link so that the loop doesn't mix links and mess up the process:\n",
    "    books_url = 'https://books.toscrape.com/'\n",
    "    "
   ]
  },
  {
   "cell_type": "code",
   "execution_count": null,
   "id": "537224d4",
   "metadata": {},
   "outputs": [
    {
     "data": {
      "text/plain": [
       "title       object\n",
       "price      float64\n",
       "stock       object\n",
       "rating    category\n",
       "dtype: object"
      ]
     },
     "execution_count": 46,
     "metadata": {},
     "output_type": "execute_result"
    }
   ],
   "source": [
    "# here is where i made the data frame:\n",
    "categories_df = pd.DataFrame(categories)\n",
    "# these lines are just to correct the data types for visualization later:\n",
    "categories_df['price'] = categories_df['price'].str[2:]\n",
    "categories_df['price'] = categories_df['price'].astype('float')\n",
    "categories_df['rating'] = categories_df['rating'].astype('category')\n",
    "categories_df.dtypes"
   ]
  },
  {
   "cell_type": "code",
   "execution_count": null,
   "id": "e9ea49ab",
   "metadata": {},
   "outputs": [
    {
     "data": {
      "text/html": [
       "<div>\n",
       "<style scoped>\n",
       "    .dataframe tbody tr th:only-of-type {\n",
       "        vertical-align: middle;\n",
       "    }\n",
       "\n",
       "    .dataframe tbody tr th {\n",
       "        vertical-align: top;\n",
       "    }\n",
       "\n",
       "    .dataframe thead th {\n",
       "        text-align: right;\n",
       "    }\n",
       "</style>\n",
       "<table border=\"1\" class=\"dataframe\">\n",
       "  <thead>\n",
       "    <tr style=\"text-align: right;\">\n",
       "      <th></th>\n",
       "      <th>title</th>\n",
       "      <th>price</th>\n",
       "      <th>stock</th>\n",
       "      <th>rating</th>\n",
       "    </tr>\n",
       "  </thead>\n",
       "  <tbody>\n",
       "    <tr>\n",
       "      <th>0</th>\n",
       "      <td>A Light in the Attic</td>\n",
       "      <td>51.77</td>\n",
       "      <td>In stock</td>\n",
       "      <td>Three</td>\n",
       "    </tr>\n",
       "    <tr>\n",
       "      <th>1</th>\n",
       "      <td>Tipping the Velvet</td>\n",
       "      <td>53.74</td>\n",
       "      <td>In stock</td>\n",
       "      <td>One</td>\n",
       "    </tr>\n",
       "    <tr>\n",
       "      <th>2</th>\n",
       "      <td>Soumission</td>\n",
       "      <td>50.10</td>\n",
       "      <td>In stock</td>\n",
       "      <td>One</td>\n",
       "    </tr>\n",
       "    <tr>\n",
       "      <th>3</th>\n",
       "      <td>Sharp Objects</td>\n",
       "      <td>47.82</td>\n",
       "      <td>In stock</td>\n",
       "      <td>Four</td>\n",
       "    </tr>\n",
       "    <tr>\n",
       "      <th>4</th>\n",
       "      <td>Sapiens: A Brief History of Humankind</td>\n",
       "      <td>54.23</td>\n",
       "      <td>In stock</td>\n",
       "      <td>Five</td>\n",
       "    </tr>\n",
       "    <tr>\n",
       "      <th>...</th>\n",
       "      <td>...</td>\n",
       "      <td>...</td>\n",
       "      <td>...</td>\n",
       "      <td>...</td>\n",
       "    </tr>\n",
       "    <tr>\n",
       "      <th>995</th>\n",
       "      <td>Alice in Wonderland (Alice's Adventures in Won...</td>\n",
       "      <td>55.53</td>\n",
       "      <td>In stock</td>\n",
       "      <td>One</td>\n",
       "    </tr>\n",
       "    <tr>\n",
       "      <th>996</th>\n",
       "      <td>Ajin: Demi-Human, Volume 1 (Ajin: Demi-Human #1)</td>\n",
       "      <td>57.06</td>\n",
       "      <td>In stock</td>\n",
       "      <td>Four</td>\n",
       "    </tr>\n",
       "    <tr>\n",
       "      <th>997</th>\n",
       "      <td>A Spy's Devotion (The Regency Spies of London #1)</td>\n",
       "      <td>16.97</td>\n",
       "      <td>In stock</td>\n",
       "      <td>Five</td>\n",
       "    </tr>\n",
       "    <tr>\n",
       "      <th>998</th>\n",
       "      <td>1st to Die (Women's Murder Club #1)</td>\n",
       "      <td>53.98</td>\n",
       "      <td>In stock</td>\n",
       "      <td>One</td>\n",
       "    </tr>\n",
       "    <tr>\n",
       "      <th>999</th>\n",
       "      <td>1,000 Places to See Before You Die</td>\n",
       "      <td>26.08</td>\n",
       "      <td>In stock</td>\n",
       "      <td>Five</td>\n",
       "    </tr>\n",
       "  </tbody>\n",
       "</table>\n",
       "<p>1000 rows × 4 columns</p>\n",
       "</div>"
      ],
      "text/plain": [
       "                                                 title  price     stock rating\n",
       "0                                 A Light in the Attic  51.77  In stock  Three\n",
       "1                                   Tipping the Velvet  53.74  In stock    One\n",
       "2                                           Soumission  50.10  In stock    One\n",
       "3                                        Sharp Objects  47.82  In stock   Four\n",
       "4                Sapiens: A Brief History of Humankind  54.23  In stock   Five\n",
       "..                                                 ...    ...       ...    ...\n",
       "995  Alice in Wonderland (Alice's Adventures in Won...  55.53  In stock    One\n",
       "996   Ajin: Demi-Human, Volume 1 (Ajin: Demi-Human #1)  57.06  In stock   Four\n",
       "997  A Spy's Devotion (The Regency Spies of London #1)  16.97  In stock   Five\n",
       "998                1st to Die (Women's Murder Club #1)  53.98  In stock    One\n",
       "999                 1,000 Places to See Before You Die  26.08  In stock   Five\n",
       "\n",
       "[1000 rows x 4 columns]"
      ]
     },
     "execution_count": 47,
     "metadata": {},
     "output_type": "execute_result"
    }
   ],
   "source": [
    "# i thought maybe making the rating column ordered based on the number of stars will be great for visualization:\n",
    "categories_df['rating'] = pd.Categorical(categories_df['rating'], categories=[\"One\", \"Two\", \"Three\", \"Four\", \"Five\"], ordered=True)\n",
    "categories_df"
   ]
  },
  {
   "cell_type": "markdown",
   "id": "c97fcaf4",
   "metadata": {},
   "source": [
    "this is where i benefited from storing the urls. i wanted to enter each book to get its description, but the problem is that the url sometimes\n",
    "is different from the name. e.g. (name is A Light in the Attic, but the name in url is: a-light-in-the-attic) i tried to fix\n",
    "them using str, but there are other books having multiple special characters, making the whole process tedious. storing the url while scraping the data is much easier.\n"
   ]
  },
  {
   "cell_type": "code",
   "execution_count": null,
   "id": "b4060ec9",
   "metadata": {},
   "outputs": [],
   "source": [
    "description_data = []\n",
    "# this loop iterate through the urls variable from earlier to get each page that contains each book's details:\n",
    "for url in urls:\n",
    "    response = requests.get(url)\n",
    "    # this if statement verifies the url leads somewhere, it prevents the program from shutting down just from a url not working. all urls work.\n",
    "    if response.status_code == 200:\n",
    "        soup = BeautifulSoup(response.text, 'html.parser')\n",
    "        # this line got me the description, i'm not trying another code because this cell takes 11 MINUTES TO RUN.\n",
    "        description = soup.find('meta', {'name': 'description'})\n",
    "        if description:\n",
    "            description_data.append(description['content'].strip())\n",
    "        else:\n",
    "            print(f\"Description not found for URL: {url}\")\n",
    "    else:\n",
    "        print(f\"Failed to fetch URL: {url} (Status Code: {response.status_code})\")"
   ]
  },
  {
   "cell_type": "code",
   "execution_count": null,
   "id": "9ac18ba2",
   "metadata": {},
   "outputs": [],
   "source": [
    "# after scraping the descriptions, we finally turn it into a series and then add it to the data frame:\n",
    "categories_df['descriptions'] = pd.Series(description_data)"
   ]
  },
  {
   "cell_type": "code",
   "execution_count": null,
   "id": "807827f0",
   "metadata": {},
   "outputs": [
    {
     "data": {
      "text/html": [
       "<div>\n",
       "<style scoped>\n",
       "    .dataframe tbody tr th:only-of-type {\n",
       "        vertical-align: middle;\n",
       "    }\n",
       "\n",
       "    .dataframe tbody tr th {\n",
       "        vertical-align: top;\n",
       "    }\n",
       "\n",
       "    .dataframe thead th {\n",
       "        text-align: right;\n",
       "    }\n",
       "</style>\n",
       "<table border=\"1\" class=\"dataframe\">\n",
       "  <thead>\n",
       "    <tr style=\"text-align: right;\">\n",
       "      <th></th>\n",
       "      <th>title</th>\n",
       "      <th>price</th>\n",
       "      <th>stock</th>\n",
       "      <th>rating</th>\n",
       "      <th>descriptions</th>\n",
       "    </tr>\n",
       "  </thead>\n",
       "  <tbody>\n",
       "    <tr>\n",
       "      <th>0</th>\n",
       "      <td>A Light in the Attic</td>\n",
       "      <td>51.77</td>\n",
       "      <td>In stock</td>\n",
       "      <td>Three</td>\n",
       "      <td>It's hard to imagine a world without A Light i...</td>\n",
       "    </tr>\n",
       "    <tr>\n",
       "      <th>1</th>\n",
       "      <td>Tipping the Velvet</td>\n",
       "      <td>53.74</td>\n",
       "      <td>In stock</td>\n",
       "      <td>One</td>\n",
       "      <td>\"Erotic and absorbing...Written with starling ...</td>\n",
       "    </tr>\n",
       "    <tr>\n",
       "      <th>2</th>\n",
       "      <td>Soumission</td>\n",
       "      <td>50.10</td>\n",
       "      <td>In stock</td>\n",
       "      <td>One</td>\n",
       "      <td>Dans une France assez proche de la nÃ´tre, un ...</td>\n",
       "    </tr>\n",
       "    <tr>\n",
       "      <th>3</th>\n",
       "      <td>Sharp Objects</td>\n",
       "      <td>47.82</td>\n",
       "      <td>In stock</td>\n",
       "      <td>Four</td>\n",
       "      <td>WICKED above her hipbone, GIRL across her hear...</td>\n",
       "    </tr>\n",
       "    <tr>\n",
       "      <th>4</th>\n",
       "      <td>Sapiens: A Brief History of Humankind</td>\n",
       "      <td>54.23</td>\n",
       "      <td>In stock</td>\n",
       "      <td>Five</td>\n",
       "      <td>From a renowned historian comes a groundbreaki...</td>\n",
       "    </tr>\n",
       "    <tr>\n",
       "      <th>...</th>\n",
       "      <td>...</td>\n",
       "      <td>...</td>\n",
       "      <td>...</td>\n",
       "      <td>...</td>\n",
       "      <td>...</td>\n",
       "    </tr>\n",
       "    <tr>\n",
       "      <th>995</th>\n",
       "      <td>Alice in Wonderland (Alice's Adventures in Won...</td>\n",
       "      <td>55.53</td>\n",
       "      <td>In stock</td>\n",
       "      <td>One</td>\n",
       "      <td></td>\n",
       "    </tr>\n",
       "    <tr>\n",
       "      <th>996</th>\n",
       "      <td>Ajin: Demi-Human, Volume 1 (Ajin: Demi-Human #1)</td>\n",
       "      <td>57.06</td>\n",
       "      <td>In stock</td>\n",
       "      <td>Four</td>\n",
       "      <td>High school student Kei Nagai is struck dead i...</td>\n",
       "    </tr>\n",
       "    <tr>\n",
       "      <th>997</th>\n",
       "      <td>A Spy's Devotion (The Regency Spies of London #1)</td>\n",
       "      <td>16.97</td>\n",
       "      <td>In stock</td>\n",
       "      <td>Five</td>\n",
       "      <td>In Englandâs Regency era, manners and elegan...</td>\n",
       "    </tr>\n",
       "    <tr>\n",
       "      <th>998</th>\n",
       "      <td>1st to Die (Women's Murder Club #1)</td>\n",
       "      <td>53.98</td>\n",
       "      <td>In stock</td>\n",
       "      <td>One</td>\n",
       "      <td>James Patterson, bestselling author of the Ale...</td>\n",
       "    </tr>\n",
       "    <tr>\n",
       "      <th>999</th>\n",
       "      <td>1,000 Places to See Before You Die</td>\n",
       "      <td>26.08</td>\n",
       "      <td>In stock</td>\n",
       "      <td>Five</td>\n",
       "      <td>Around the World, continent by continent, here...</td>\n",
       "    </tr>\n",
       "  </tbody>\n",
       "</table>\n",
       "<p>1000 rows × 5 columns</p>\n",
       "</div>"
      ],
      "text/plain": [
       "                                                 title  price     stock  \\\n",
       "0                                 A Light in the Attic  51.77  In stock   \n",
       "1                                   Tipping the Velvet  53.74  In stock   \n",
       "2                                           Soumission  50.10  In stock   \n",
       "3                                        Sharp Objects  47.82  In stock   \n",
       "4                Sapiens: A Brief History of Humankind  54.23  In stock   \n",
       "..                                                 ...    ...       ...   \n",
       "995  Alice in Wonderland (Alice's Adventures in Won...  55.53  In stock   \n",
       "996   Ajin: Demi-Human, Volume 1 (Ajin: Demi-Human #1)  57.06  In stock   \n",
       "997  A Spy's Devotion (The Regency Spies of London #1)  16.97  In stock   \n",
       "998                1st to Die (Women's Murder Club #1)  53.98  In stock   \n",
       "999                 1,000 Places to See Before You Die  26.08  In stock   \n",
       "\n",
       "    rating                                       descriptions  \n",
       "0    Three  It's hard to imagine a world without A Light i...  \n",
       "1      One  \"Erotic and absorbing...Written with starling ...  \n",
       "2      One  Dans une France assez proche de la nÃ´tre, un ...  \n",
       "3     Four  WICKED above her hipbone, GIRL across her hear...  \n",
       "4     Five  From a renowned historian comes a groundbreaki...  \n",
       "..     ...                                                ...  \n",
       "995    One                                                     \n",
       "996   Four  High school student Kei Nagai is struck dead i...  \n",
       "997   Five  In Englandâs Regency era, manners and elegan...  \n",
       "998    One  James Patterson, bestselling author of the Ale...  \n",
       "999   Five  Around the World, continent by continent, here...  \n",
       "\n",
       "[1000 rows x 5 columns]"
      ]
     },
     "execution_count": 70,
     "metadata": {},
     "output_type": "execute_result"
    }
   ],
   "source": [
    "# the final data frame:\n",
    "categories_df"
   ]
  },
  {
   "cell_type": "code",
   "execution_count": null,
   "id": "954e7b31",
   "metadata": {},
   "outputs": [],
   "source": [
    "# this is to save it into a csv file for task submission:\n",
    "categories_df.to_csv('Scraped_data.csv')"
   ]
  },
  {
   "cell_type": "markdown",
   "id": "14798d64",
   "metadata": {},
   "source": [
    "# Visualization"
   ]
  },
  {
   "cell_type": "code",
   "execution_count": null,
   "id": "932d03a7",
   "metadata": {},
   "outputs": [
    {
     "data": {
      "text/plain": [
       "<Axes: xlabel='rating', ylabel='price'>"
      ]
     },
     "execution_count": 28,
     "metadata": {},
     "output_type": "execute_result"
    },
    {
     "data": {
      "image/png": "[encoded data removed]",
      "text/plain": [
       "<Figure size 640x480 with 1 Axes>"
      ]
     },
     "metadata": {},
     "output_type": "display_data"
    }
   ],
   "source": [
    "import seaborn as sns\n",
    "\n",
    "sns.barplot(x = categories_df['rating'], y = categories_df['price'])"
   ]
  },
  {
   "cell_type": "code",
   "execution_count": 73,
   "id": "77f154a0",
   "metadata": {},
   "outputs": [
    {
     "data": {
      "text/plain": [
       "<Axes: ylabel='price'>"
      ]
     },
     "execution_count": 73,
     "metadata": {},
     "output_type": "execute_result"
    },
    {
     "data": {
      "image/png": "[encoded data removed]",
      "text/plain": [
       "<Figure size 640x480 with 1 Axes>"
      ]
     },
     "metadata": {},
     "output_type": "display_data"
    }
   ],
   "source": [
    "sns.boxenplot(categories_df['price'])"
   ]
  },
  {
   "cell_type": "code",
   "execution_count": 75,
   "id": "d1a49aeb",
   "metadata": {},
   "outputs": [
    {
     "data": {
      "text/plain": [
       "<Axes: xlabel='count', ylabel='rating'>"
      ]
     },
     "execution_count": 75,
     "metadata": {},
     "output_type": "execute_result"
    },
    {
     "data": {
      "image/png": "[encoded data removed]",
      "text/plain": [
       "<Figure size 640x480 with 1 Axes>"
      ]
     },
     "metadata": {},
     "output_type": "display_data"
    }
   ],
   "source": [
    "sns.countplot(categories_df['rating'])"
   ]
  }
 ],
 "metadata": {
  "kernelspec": {
   "display_name": ".venv",
   "language": "python",
   "name": "python3"
  },
  "language_info": {
   "codemirror_mode": {
    "name": "ipython",
    "version": 3
   },
   "file_extension": ".py",
   "mimetype": "text/x-python",
   "name": "python",
   "nbconvert_exporter": "python",
   "pygments_lexer": "ipython3",
   "version": "3.10.11"
  }
 },
 "nbformat": 4,
 "nbformat_minor": 5
}
